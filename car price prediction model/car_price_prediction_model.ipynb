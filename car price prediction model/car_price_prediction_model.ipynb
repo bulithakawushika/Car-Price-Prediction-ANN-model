{
 "cells": [
  {
   "cell_type": "code",
   "execution_count": 1,
   "id": "0dd05d2d",
   "metadata": {},
   "outputs": [],
   "source": [
    "import tensorflow as tf\n",
    "import numpy as np\n",
    "import pandas as pd\n",
    "import seaborn as sns\n",
    "from tensorflow.keras.optimizers import Adam\n",
    "from tensorflow.keras.losses import MeanSquaredError,Huber,MeanAbsoluteError\n",
    "import matplotlib.pyplot as plt\n",
    "from tensorflow.keras.layers import Normalization, Dense, InputLayer\n",
    "from tensorflow.keras.metrics import RootMeanSquaredError\n",
    "import os\n",
    "os.environ[\"KMP_DUPLICATE_LIB_OK\"]=\"TRUE\""
   ]
  },
  {
   "cell_type": "markdown",
   "id": "48aac2a6",
   "metadata": {},
   "source": [
    "# Data Preparation"
   ]
  },
  {
   "cell_type": "markdown",
   "id": "3a82020b",
   "metadata": {},
   "source": [
    "input supervised data set"
   ]
  },
  {
   "cell_type": "code",
   "execution_count": 2,
   "id": "5dd7418a",
   "metadata": {},
   "outputs": [
    {
     "data": {
      "text/html": [
       "<div>\n",
       "<style scoped>\n",
       "    .dataframe tbody tr th:only-of-type {\n",
       "        vertical-align: middle;\n",
       "    }\n",
       "\n",
       "    .dataframe tbody tr th {\n",
       "        vertical-align: top;\n",
       "    }\n",
       "\n",
       "    .dataframe thead th {\n",
       "        text-align: right;\n",
       "    }\n",
       "</style>\n",
       "<table border=\"1\" class=\"dataframe\">\n",
       "  <thead>\n",
       "    <tr style=\"text-align: right;\">\n",
       "      <th></th>\n",
       "      <th>v.id</th>\n",
       "      <th>on road old</th>\n",
       "      <th>on road now</th>\n",
       "      <th>years</th>\n",
       "      <th>km</th>\n",
       "      <th>rating</th>\n",
       "      <th>condition</th>\n",
       "      <th>economy</th>\n",
       "      <th>top speed</th>\n",
       "      <th>hp</th>\n",
       "      <th>torque</th>\n",
       "      <th>current price</th>\n",
       "    </tr>\n",
       "  </thead>\n",
       "  <tbody>\n",
       "    <tr>\n",
       "      <th>0</th>\n",
       "      <td>1</td>\n",
       "      <td>535651</td>\n",
       "      <td>798186</td>\n",
       "      <td>3</td>\n",
       "      <td>78945</td>\n",
       "      <td>1</td>\n",
       "      <td>2</td>\n",
       "      <td>14</td>\n",
       "      <td>177</td>\n",
       "      <td>73</td>\n",
       "      <td>123</td>\n",
       "      <td>351318.0</td>\n",
       "    </tr>\n",
       "    <tr>\n",
       "      <th>1</th>\n",
       "      <td>2</td>\n",
       "      <td>591911</td>\n",
       "      <td>861056</td>\n",
       "      <td>6</td>\n",
       "      <td>117220</td>\n",
       "      <td>5</td>\n",
       "      <td>9</td>\n",
       "      <td>9</td>\n",
       "      <td>148</td>\n",
       "      <td>74</td>\n",
       "      <td>95</td>\n",
       "      <td>285001.5</td>\n",
       "    </tr>\n",
       "    <tr>\n",
       "      <th>2</th>\n",
       "      <td>3</td>\n",
       "      <td>686990</td>\n",
       "      <td>770762</td>\n",
       "      <td>2</td>\n",
       "      <td>132538</td>\n",
       "      <td>2</td>\n",
       "      <td>8</td>\n",
       "      <td>15</td>\n",
       "      <td>181</td>\n",
       "      <td>53</td>\n",
       "      <td>97</td>\n",
       "      <td>215386.0</td>\n",
       "    </tr>\n",
       "    <tr>\n",
       "      <th>3</th>\n",
       "      <td>4</td>\n",
       "      <td>573999</td>\n",
       "      <td>722381</td>\n",
       "      <td>4</td>\n",
       "      <td>101065</td>\n",
       "      <td>4</td>\n",
       "      <td>3</td>\n",
       "      <td>11</td>\n",
       "      <td>197</td>\n",
       "      <td>54</td>\n",
       "      <td>116</td>\n",
       "      <td>244295.5</td>\n",
       "    </tr>\n",
       "    <tr>\n",
       "      <th>4</th>\n",
       "      <td>5</td>\n",
       "      <td>691388</td>\n",
       "      <td>811335</td>\n",
       "      <td>6</td>\n",
       "      <td>61559</td>\n",
       "      <td>3</td>\n",
       "      <td>9</td>\n",
       "      <td>12</td>\n",
       "      <td>160</td>\n",
       "      <td>53</td>\n",
       "      <td>105</td>\n",
       "      <td>531114.5</td>\n",
       "    </tr>\n",
       "  </tbody>\n",
       "</table>\n",
       "</div>"
      ],
      "text/plain": [
       "   v.id  on road old  on road now  years      km  rating  condition  economy  \\\n",
       "0     1       535651       798186      3   78945       1          2       14   \n",
       "1     2       591911       861056      6  117220       5          9        9   \n",
       "2     3       686990       770762      2  132538       2          8       15   \n",
       "3     4       573999       722381      4  101065       4          3       11   \n",
       "4     5       691388       811335      6   61559       3          9       12   \n",
       "\n",
       "   top speed  hp  torque  current price  \n",
       "0        177  73     123       351318.0  \n",
       "1        148  74      95       285001.5  \n",
       "2        181  53      97       215386.0  \n",
       "3        197  54     116       244295.5  \n",
       "4        160  53     105       531114.5  "
      ]
     },
     "execution_count": 2,
     "metadata": {},
     "output_type": "execute_result"
    }
   ],
   "source": [
    "data=pd.read_csv(\"train.csv\")\n",
    "data.head()"
   ]
  },
  {
   "cell_type": "markdown",
   "id": "36b19bfb",
   "metadata": {},
   "source": [
    "visualize relationship between data"
   ]
  },
  {
   "cell_type": "code",
   "execution_count": 3,
   "id": "a07f8da4",
   "metadata": {},
   "outputs": [],
   "source": [
    "#sns.pairplot(data[[\"v.id\",\"on road old\",\"on road now\",\"years\",\"km\",\"rating\",\"condition\",\"economy\",\"top speed\",\"hp\",\"torque\",\"current price\"]],diag_kind=\"kde\")"
   ]
  },
  {
   "cell_type": "markdown",
   "id": "ed65d30d",
   "metadata": {},
   "source": [
    "prepare input tensors and output tensor"
   ]
  },
  {
   "cell_type": "code",
   "execution_count": 4,
   "id": "33a4727d",
   "metadata": {},
   "outputs": [],
   "source": [
    "tf_data=tf.constant(data)\n",
    "tf.cast(tf_data,tf.float32)\n",
    "tf_data=tf.random.shuffle(tf_data)\n",
    "x=tf_data[:,3:-1]\n",
    "y=tf_data[:,-1]\n",
    "y=tf.expand_dims(y,axis=-1)"
   ]
  },
  {
   "cell_type": "markdown",
   "id": "8337eab5",
   "metadata": {},
   "source": [
    "prepare training,validation and training datasets"
   ]
  },
  {
   "cell_type": "code",
   "execution_count": 5,
   "id": "d0c0b6ce",
   "metadata": {},
   "outputs": [],
   "source": [
    "TRAIN_RATIO=0.8\n",
    "VAL_RATIO=0.1\n",
    "TEST_RATIO=0.1\n",
    "DATASET_SIZE=len(x)"
   ]
  },
  {
   "cell_type": "markdown",
   "id": "f4f0b15c",
   "metadata": {},
   "source": [
    "train dataset"
   ]
  },
  {
   "cell_type": "code",
   "execution_count": 6,
   "id": "ce7675a2",
   "metadata": {},
   "outputs": [],
   "source": [
    "x_train=x[:int(DATASET_SIZE*TRAIN_RATIO)]\n",
    "y_train=y[:int(DATASET_SIZE*TRAIN_RATIO)]"
   ]
  },
  {
   "cell_type": "code",
   "execution_count": 7,
   "id": "0f81e4c1",
   "metadata": {},
   "outputs": [],
   "source": [
    "train_dataset= tf.data.Dataset.from_tensor_slices((x_train,y_train))\n",
    "train_dataset= train_dataset.shuffle(buffer_size=8,\n",
    "                                     reshuffle_each_iteration=True).batch(32).prefetch(tf.data.AUTOTUNE)"
   ]
  },
  {
   "cell_type": "markdown",
   "id": "ff4d900a",
   "metadata": {},
   "source": [
    "validation dataset"
   ]
  },
  {
   "cell_type": "code",
   "execution_count": 8,
   "id": "b0b4337d",
   "metadata": {},
   "outputs": [],
   "source": [
    "x_val=x[int(DATASET_SIZE*TRAIN_RATIO):int(DATASET_SIZE*(TRAIN_RATIO+VAL_RATIO))]\n",
    "y_val=y[int(DATASET_SIZE*TRAIN_RATIO):int(DATASET_SIZE*(TRAIN_RATIO+VAL_RATIO))]"
   ]
  },
  {
   "cell_type": "code",
   "execution_count": 9,
   "id": "c47ee0fc",
   "metadata": {},
   "outputs": [],
   "source": [
    "val_dataset= tf.data.Dataset.from_tensor_slices((x_val,y_val))\n",
    "val_dataset= train_dataset.shuffle(buffer_size=8,\n",
    "                                     reshuffle_each_iteration=True).batch(32).prefetch(tf.data.AUTOTUNE)"
   ]
  },
  {
   "cell_type": "markdown",
   "id": "d511f898",
   "metadata": {},
   "source": [
    "test dataset"
   ]
  },
  {
   "cell_type": "code",
   "execution_count": 10,
   "id": "1295df73",
   "metadata": {},
   "outputs": [],
   "source": [
    "x_test=x[int(DATASET_SIZE*(TRAIN_RATIO+VAL_RATIO)):]\n",
    "y_test=y[int(DATASET_SIZE*(TRAIN_RATIO+VAL_RATIO)):]"
   ]
  },
  {
   "cell_type": "code",
   "execution_count": 11,
   "id": "70bd8dec",
   "metadata": {},
   "outputs": [],
   "source": [
    "test_dataset= tf.data.Dataset.from_tensor_slices((x_test,y_test))\n",
    "test_dataset= train_dataset.shuffle(buffer_size=8,\n",
    "                                     reshuffle_each_iteration=True).batch(32).prefetch(tf.data.AUTOTUNE)"
   ]
  },
  {
   "cell_type": "markdown",
   "id": "3841326b",
   "metadata": {},
   "source": [
    "transform input tensor (normalizaion)"
   ]
  },
  {
   "cell_type": "code",
   "execution_count": 12,
   "id": "ee81adbc",
   "metadata": {},
   "outputs": [
    {
     "data": {
      "text/plain": [
       "<tf.Tensor: shape=(1000, 8), dtype=float32, numpy=\n",
       "array([[-0.33886552, -1.3778712 ,  1.4929838 , ...,  0.04437039,\n",
       "         1.0821122 , -0.39018914],\n",
       "       [ 1.3989078 , -0.10241438,  0.76735365, ...,  0.4565256 ,\n",
       "         1.6189283 , -1.3444887 ],\n",
       "       [ 1.3989078 , -1.2186762 ,  0.76735365, ...,  0.9717196 ,\n",
       "         0.15488414,  1.2321202 ],\n",
       "       ...,\n",
       "       [-1.497381  ,  0.54654217,  0.76735365, ..., -0.6253818 ,\n",
       "        -1.6507704 ,  0.7549704 ],\n",
       "       [ 0.24039222, -0.28416914,  1.4929838 , ...,  1.1262778 ,\n",
       "        -0.1379247 , -1.6784936 ],\n",
       "       [ 0.81965   ,  0.16840675, -0.68390673, ...,  0.4565256 ,\n",
       "        -0.7235424 ,  1.61384   ]], dtype=float32)>"
      ]
     },
     "execution_count": 12,
     "metadata": {},
     "output_type": "execute_result"
    }
   ],
   "source": [
    "normalizer= Normalization()\n",
    "normalizer.adapt(x_train)\n",
    "normalizer(x)"
   ]
  },
  {
   "cell_type": "markdown",
   "id": "4bb43310",
   "metadata": {},
   "source": [
    "creat model"
   ]
  },
  {
   "cell_type": "code",
   "execution_count": 13,
   "id": "9e37d211",
   "metadata": {},
   "outputs": [],
   "source": [
    "model = tf.keras.Sequential([\n",
    "    InputLayer(input_shape=(8,)),\n",
    "    normalizer,\n",
    "    Dense(128,activation=\"relu\"),\n",
    "    Dense(128,activation=\"relu\"),\n",
    "    Dense(128,activation=\"relu\"),\n",
    "    Dense(1),\n",
    "])"
   ]
  },
  {
   "cell_type": "markdown",
   "id": "24835c8b",
   "metadata": {},
   "source": [
    "model summary"
   ]
  },
  {
   "cell_type": "code",
   "execution_count": 14,
   "id": "bc4a0a15",
   "metadata": {},
   "outputs": [
    {
     "name": "stdout",
     "output_type": "stream",
     "text": [
      "Model: \"sequential\"\n",
      "_________________________________________________________________\n",
      " Layer (type)                Output Shape              Param #   \n",
      "=================================================================\n",
      " normalization (Normalizatio  (None, 8)                17        \n",
      " n)                                                              \n",
      "                                                                 \n",
      " dense (Dense)               (None, 128)               1152      \n",
      "                                                                 \n",
      " dense_1 (Dense)             (None, 128)               16512     \n",
      "                                                                 \n",
      " dense_2 (Dense)             (None, 128)               16512     \n",
      "                                                                 \n",
      " dense_3 (Dense)             (None, 1)                 129       \n",
      "                                                                 \n",
      "=================================================================\n",
      "Total params: 34,322\n",
      "Trainable params: 34,305\n",
      "Non-trainable params: 17\n",
      "_________________________________________________________________\n"
     ]
    }
   ],
   "source": [
    "model.summary()"
   ]
  },
  {
   "cell_type": "markdown",
   "id": "b5bbec3e",
   "metadata": {},
   "source": [
    "model structure"
   ]
  },
  {
   "cell_type": "code",
   "execution_count": 15,
   "id": "1598f245",
   "metadata": {},
   "outputs": [
    {
     "data": {
      "image/png": "[encoded data removed]",
      "text/plain": [
       "<IPython.core.display.Image object>"
      ]
     },
     "execution_count": 15,
     "metadata": {},
     "output_type": "execute_result"
    }
   ],
   "source": [
    "tf.keras.utils.plot_model(model,to_file=\"model.png\",show_shapes=True)"
   ]
  },
  {
   "cell_type": "markdown",
   "id": "e778f767",
   "metadata": {},
   "source": [
    "compile model and error management"
   ]
  },
  {
   "cell_type": "code",
   "execution_count": 16,
   "id": "ee9798d3",
   "metadata": {},
   "outputs": [],
   "source": [
    "model.compile(optimizer= Adam(learning_rate=0.1),\n",
    "              loss=Huber(),\n",
    "            metrics=RootMeanSquaredError())"
   ]
  },
  {
   "cell_type": "markdown",
   "id": "4032c674",
   "metadata": {},
   "source": [
    "# Train model"
   ]
  },
  {
   "cell_type": "markdown",
   "id": "720fd4e3",
   "metadata": {},
   "source": [
    "train model"
   ]
  },
  {
   "cell_type": "code",
   "execution_count": 17,
   "id": "9b43df02",
   "metadata": {},
   "outputs": [
    {
     "name": "stdout",
     "output_type": "stream",
     "text": [
      "Epoch 1/100\n",
      " 1/25 [>.............................] - ETA: 15s - loss: 324395.8125 - root_mean_squared_error: 348904.5625WARNING:tensorflow:Model was constructed with shape (None, 8) for input KerasTensor(type_spec=TensorSpec(shape=(None, 8), dtype=tf.float32, name='input_1'), name='input_1', description=\"created by layer 'input_1'\"), but it was called on an input with incompatible shape (None, None, 8).\n",
      "25/25 [==============================] - 1s 17ms/step - loss: 152826.0156 - root_mean_squared_error: 203526.7344 - val_loss: 71438.1406 - val_root_mean_squared_error: 84247.7109\n",
      "Epoch 2/100\n",
      "25/25 [==============================] - 0s 3ms/step - loss: 52060.2148 - root_mean_squared_error: 63873.0273 - val_loss: 46696.5391 - val_root_mean_squared_error: 56960.1016\n",
      "Epoch 3/100\n",
      "25/25 [==============================] - 0s 2ms/step - loss: 44557.5234 - root_mean_squared_error: 55177.5078 - val_loss: 40186.3242 - val_root_mean_squared_error: 49736.0430\n",
      "Epoch 4/100\n",
      "25/25 [==============================] - 0s 3ms/step - loss: 40006.2305 - root_mean_squared_error: 49919.3906 - val_loss: 39778.0508 - val_root_mean_squared_error: 49198.6016\n",
      "Epoch 5/100\n",
      "25/25 [==============================] - 0s 3ms/step - loss: 44924.1289 - root_mean_squared_error: 55359.6641 - val_loss: 39395.3398 - val_root_mean_squared_error: 49248.9570\n",
      "Epoch 6/100\n",
      "25/25 [==============================] - 0s 2ms/step - loss: 39518.5664 - root_mean_squared_error: 49551.9219 - val_loss: 38565.5742 - val_root_mean_squared_error: 48325.7891\n",
      "Epoch 7/100\n",
      "25/25 [==============================] - 0s 2ms/step - loss: 44273.1836 - root_mean_squared_error: 55125.3867 - val_loss: 38605.0117 - val_root_mean_squared_error: 47932.9609\n",
      "Epoch 8/100\n",
      "25/25 [==============================] - 0s 2ms/step - loss: 38459.3828 - root_mean_squared_error: 47991.2617 - val_loss: 36555.3086 - val_root_mean_squared_error: 45559.1289\n",
      "Epoch 9/100\n",
      "25/25 [==============================] - 0s 3ms/step - loss: 41931.2969 - root_mean_squared_error: 52707.8516 - val_loss: 39611.9492 - val_root_mean_squared_error: 49238.2617\n",
      "Epoch 10/100\n",
      "25/25 [==============================] - 0s 3ms/step - loss: 41053.6562 - root_mean_squared_error: 51370.5352 - val_loss: 37222.1641 - val_root_mean_squared_error: 46349.7734\n",
      "Epoch 11/100\n",
      "25/25 [==============================] - 0s 2ms/step - loss: 39851.9648 - root_mean_squared_error: 49135.6562 - val_loss: 42478.5000 - val_root_mean_squared_error: 52189.6875\n",
      "Epoch 12/100\n",
      "25/25 [==============================] - 0s 2ms/step - loss: 40717.2344 - root_mean_squared_error: 51218.2148 - val_loss: 40186.5938 - val_root_mean_squared_error: 49613.0703\n",
      "Epoch 13/100\n",
      "25/25 [==============================] - 0s 3ms/step - loss: 41544.2148 - root_mean_squared_error: 51876.0352 - val_loss: 35697.4492 - val_root_mean_squared_error: 44486.9648\n",
      "Epoch 14/100\n",
      "25/25 [==============================] - 0s 3ms/step - loss: 37479.3008 - root_mean_squared_error: 46921.8789 - val_loss: 38880.8281 - val_root_mean_squared_error: 48075.9844\n",
      "Epoch 15/100\n",
      "25/25 [==============================] - 0s 2ms/step - loss: 39565.2969 - root_mean_squared_error: 49332.5938 - val_loss: 41187.6367 - val_root_mean_squared_error: 50912.7812\n",
      "Epoch 16/100\n",
      "25/25 [==============================] - 0s 3ms/step - loss: 38710.9531 - root_mean_squared_error: 48308.3477 - val_loss: 45872.6953 - val_root_mean_squared_error: 56423.6562\n",
      "Epoch 17/100\n",
      "25/25 [==============================] - 0s 3ms/step - loss: 40538.1211 - root_mean_squared_error: 50743.9570 - val_loss: 38727.4414 - val_root_mean_squared_error: 48377.7578\n",
      "Epoch 18/100\n",
      "25/25 [==============================] - 0s 3ms/step - loss: 38901.8711 - root_mean_squared_error: 48544.5586 - val_loss: 37739.7891 - val_root_mean_squared_error: 46894.4688\n",
      "Epoch 19/100\n",
      "25/25 [==============================] - 0s 2ms/step - loss: 38414.4844 - root_mean_squared_error: 48568.0312 - val_loss: 37314.2852 - val_root_mean_squared_error: 46423.0742\n",
      "Epoch 20/100\n",
      "25/25 [==============================] - 0s 3ms/step - loss: 39130.9688 - root_mean_squared_error: 48893.5820 - val_loss: 53281.1094 - val_root_mean_squared_error: 64348.8633\n",
      "Epoch 21/100\n",
      "25/25 [==============================] - 0s 2ms/step - loss: 39377.3242 - root_mean_squared_error: 49586.1953 - val_loss: 39998.9141 - val_root_mean_squared_error: 49681.6250\n",
      "Epoch 22/100\n",
      "25/25 [==============================] - 0s 2ms/step - loss: 44230.3281 - root_mean_squared_error: 55404.1875 - val_loss: 39714.1562 - val_root_mean_squared_error: 49172.5898\n",
      "Epoch 23/100\n",
      "25/25 [==============================] - 0s 3ms/step - loss: 43001.0117 - root_mean_squared_error: 53372.2891 - val_loss: 39075.3516 - val_root_mean_squared_error: 48959.8750\n",
      "Epoch 24/100\n",
      "25/25 [==============================] - 0s 3ms/step - loss: 38838.9648 - root_mean_squared_error: 48595.1914 - val_loss: 37584.0312 - val_root_mean_squared_error: 46771.6875\n",
      "Epoch 25/100\n",
      "25/25 [==============================] - 0s 2ms/step - loss: 37411.3711 - root_mean_squared_error: 46810.9258 - val_loss: 38029.6641 - val_root_mean_squared_error: 47244.3477\n",
      "Epoch 26/100\n",
      "25/25 [==============================] - 0s 2ms/step - loss: 37855.9570 - root_mean_squared_error: 47542.6523 - val_loss: 41166.6484 - val_root_mean_squared_error: 50853.2930\n",
      "Epoch 27/100\n",
      "25/25 [==============================] - 0s 2ms/step - loss: 37286.0508 - root_mean_squared_error: 47062.8672 - val_loss: 39434.1289 - val_root_mean_squared_error: 48938.1406\n",
      "Epoch 28/100\n",
      "25/25 [==============================] - 0s 2ms/step - loss: 39671.4453 - root_mean_squared_error: 49891.4141 - val_loss: 35705.7695 - val_root_mean_squared_error: 44385.2578\n",
      "Epoch 29/100\n",
      "25/25 [==============================] - 0s 2ms/step - loss: 40085.8516 - root_mean_squared_error: 50094.7617 - val_loss: 38193.0625 - val_root_mean_squared_error: 47768.5039\n",
      "Epoch 30/100\n",
      "25/25 [==============================] - 0s 3ms/step - loss: 40874.2227 - root_mean_squared_error: 51284.6250 - val_loss: 38481.1641 - val_root_mean_squared_error: 47751.4766\n",
      "Epoch 31/100\n",
      "25/25 [==============================] - 0s 2ms/step - loss: 41688.6758 - root_mean_squared_error: 51943.6562 - val_loss: 37366.3047 - val_root_mean_squared_error: 46951.5078\n",
      "Epoch 32/100\n",
      "25/25 [==============================] - 0s 2ms/step - loss: 38823.9414 - root_mean_squared_error: 48834.8164 - val_loss: 37165.4805 - val_root_mean_squared_error: 46357.0117\n",
      "Epoch 33/100\n",
      "25/25 [==============================] - 0s 3ms/step - loss: 35732.2617 - root_mean_squared_error: 45043.5820 - val_loss: 34322.7031 - val_root_mean_squared_error: 42941.1250\n",
      "Epoch 34/100\n",
      "25/25 [==============================] - 0s 2ms/step - loss: 35086.1914 - root_mean_squared_error: 44471.8984 - val_loss: 37121.0156 - val_root_mean_squared_error: 46269.2109\n",
      "Epoch 35/100\n",
      "25/25 [==============================] - 0s 2ms/step - loss: 36199.5117 - root_mean_squared_error: 45542.5195 - val_loss: 38754.7969 - val_root_mean_squared_error: 48035.1289\n",
      "Epoch 36/100\n",
      "25/25 [==============================] - 0s 2ms/step - loss: 38994.1914 - root_mean_squared_error: 49240.6094 - val_loss: 37011.6016 - val_root_mean_squared_error: 46013.6680\n",
      "Epoch 37/100\n",
      "25/25 [==============================] - 0s 2ms/step - loss: 36601.3867 - root_mean_squared_error: 46362.3008 - val_loss: 38123.1445 - val_root_mean_squared_error: 47345.7188\n",
      "Epoch 38/100\n",
      "25/25 [==============================] - 0s 2ms/step - loss: 36472.5977 - root_mean_squared_error: 45832.9883 - val_loss: 33782.8789 - val_root_mean_squared_error: 42354.4922\n",
      "Epoch 39/100\n",
      "25/25 [==============================] - 0s 2ms/step - loss: 36349.1250 - root_mean_squared_error: 45654.2695 - val_loss: 35308.8945 - val_root_mean_squared_error: 44024.3516\n",
      "Epoch 40/100\n",
      "25/25 [==============================] - 0s 2ms/step - loss: 37055.7656 - root_mean_squared_error: 46476.0195 - val_loss: 33663.0312 - val_root_mean_squared_error: 42128.6523\n",
      "Epoch 41/100\n",
      "25/25 [==============================] - 0s 2ms/step - loss: 38445.8984 - root_mean_squared_error: 48349.1133 - val_loss: 37999.9961 - val_root_mean_squared_error: 47196.4688\n",
      "Epoch 42/100\n"
     ]
    },
    {
     "name": "stdout",
     "output_type": "stream",
     "text": [
      "25/25 [==============================] - 0s 2ms/step - loss: 35876.2930 - root_mean_squared_error: 44614.8398 - val_loss: 39787.9453 - val_root_mean_squared_error: 49136.3008\n",
      "Epoch 43/100\n",
      "25/25 [==============================] - 0s 2ms/step - loss: 35862.1914 - root_mean_squared_error: 44903.5586 - val_loss: 33798.3281 - val_root_mean_squared_error: 42481.6836\n",
      "Epoch 44/100\n",
      "25/25 [==============================] - 0s 2ms/step - loss: 36678.9219 - root_mean_squared_error: 45896.7969 - val_loss: 36088.4844 - val_root_mean_squared_error: 44954.4414\n",
      "Epoch 45/100\n",
      "25/25 [==============================] - 0s 2ms/step - loss: 36783.1016 - root_mean_squared_error: 46137.8477 - val_loss: 33971.4648 - val_root_mean_squared_error: 42673.2930\n",
      "Epoch 46/100\n",
      "25/25 [==============================] - 0s 2ms/step - loss: 35325.1367 - root_mean_squared_error: 43979.4844 - val_loss: 34069.0000 - val_root_mean_squared_error: 42616.9961\n",
      "Epoch 47/100\n",
      "25/25 [==============================] - 0s 2ms/step - loss: 36526.3945 - root_mean_squared_error: 45843.2383 - val_loss: 38493.8633 - val_root_mean_squared_error: 47863.6211\n",
      "Epoch 48/100\n",
      "25/25 [==============================] - 0s 2ms/step - loss: 39383.3594 - root_mean_squared_error: 49457.5391 - val_loss: 37072.0117 - val_root_mean_squared_error: 46101.0078\n",
      "Epoch 49/100\n",
      "25/25 [==============================] - 0s 2ms/step - loss: 36233.0508 - root_mean_squared_error: 45932.2773 - val_loss: 33555.0391 - val_root_mean_squared_error: 42052.2266\n",
      "Epoch 50/100\n",
      "25/25 [==============================] - 0s 2ms/step - loss: 35322.1523 - root_mean_squared_error: 44469.6953 - val_loss: 33186.5039 - val_root_mean_squared_error: 41681.6875\n",
      "Epoch 51/100\n",
      "25/25 [==============================] - 0s 2ms/step - loss: 36053.9414 - root_mean_squared_error: 45072.4375 - val_loss: 41978.8086 - val_root_mean_squared_error: 51742.1016\n",
      "Epoch 52/100\n",
      "25/25 [==============================] - 0s 2ms/step - loss: 37107.2969 - root_mean_squared_error: 47041.0078 - val_loss: 32489.7109 - val_root_mean_squared_error: 40737.4375\n",
      "Epoch 53/100\n",
      "25/25 [==============================] - 0s 2ms/step - loss: 35290.6055 - root_mean_squared_error: 44260.8398 - val_loss: 34906.8906 - val_root_mean_squared_error: 43611.1250\n",
      "Epoch 54/100\n",
      "25/25 [==============================] - 0s 3ms/step - loss: 35965.6719 - root_mean_squared_error: 45388.9062 - val_loss: 38138.3359 - val_root_mean_squared_error: 47365.1523\n",
      "Epoch 55/100\n",
      "25/25 [==============================] - 0s 2ms/step - loss: 36509.1992 - root_mean_squared_error: 46636.0391 - val_loss: 33357.1992 - val_root_mean_squared_error: 41895.6250\n",
      "Epoch 56/100\n",
      "25/25 [==============================] - 0s 2ms/step - loss: 35295.3594 - root_mean_squared_error: 44416.6875 - val_loss: 39530.1836 - val_root_mean_squared_error: 48995.0977\n",
      "Epoch 57/100\n",
      "25/25 [==============================] - 0s 2ms/step - loss: 40360.3672 - root_mean_squared_error: 50627.0195 - val_loss: 37346.3789 - val_root_mean_squared_error: 46736.3711\n",
      "Epoch 58/100\n",
      "25/25 [==============================] - 0s 2ms/step - loss: 37839.0039 - root_mean_squared_error: 47209.8555 - val_loss: 34166.6094 - val_root_mean_squared_error: 42812.7266\n",
      "Epoch 59/100\n",
      "25/25 [==============================] - 0s 2ms/step - loss: 36030.1484 - root_mean_squared_error: 45446.3555 - val_loss: 33565.7266 - val_root_mean_squared_error: 41999.6797\n",
      "Epoch 60/100\n",
      "25/25 [==============================] - 0s 2ms/step - loss: 34750.5234 - root_mean_squared_error: 43925.2734 - val_loss: 34767.3438 - val_root_mean_squared_error: 43289.5000\n",
      "Epoch 61/100\n",
      "25/25 [==============================] - 0s 2ms/step - loss: 34506.6445 - root_mean_squared_error: 43299.7383 - val_loss: 37098.5039 - val_root_mean_squared_error: 45930.4180\n",
      "Epoch 62/100\n",
      "25/25 [==============================] - 0s 2ms/step - loss: 35081.0938 - root_mean_squared_error: 44380.5938 - val_loss: 32180.8359 - val_root_mean_squared_error: 40453.8164\n",
      "Epoch 63/100\n",
      "25/25 [==============================] - 0s 2ms/step - loss: 34748.0234 - root_mean_squared_error: 43628.1094 - val_loss: 41178.3555 - val_root_mean_squared_error: 50646.9766\n",
      "Epoch 64/100\n",
      "25/25 [==============================] - 0s 2ms/step - loss: 36488.8164 - root_mean_squared_error: 46607.3516 - val_loss: 36021.4141 - val_root_mean_squared_error: 44681.9375\n",
      "Epoch 65/100\n",
      "25/25 [==============================] - 0s 2ms/step - loss: 35995.5156 - root_mean_squared_error: 45982.3320 - val_loss: 34413.8438 - val_root_mean_squared_error: 42984.4219\n",
      "Epoch 66/100\n",
      "25/25 [==============================] - 0s 2ms/step - loss: 35135.2266 - root_mean_squared_error: 44085.2891 - val_loss: 43707.2383 - val_root_mean_squared_error: 53719.2656\n",
      "Epoch 67/100\n",
      "25/25 [==============================] - 0s 3ms/step - loss: 38484.6172 - root_mean_squared_error: 48269.0195 - val_loss: 34739.7266 - val_root_mean_squared_error: 43807.6367\n",
      "Epoch 68/100\n",
      "25/25 [==============================] - 0s 2ms/step - loss: 34850.5391 - root_mean_squared_error: 43711.7617 - val_loss: 32672.9297 - val_root_mean_squared_error: 40944.1875\n",
      "Epoch 69/100\n",
      "25/25 [==============================] - 0s 2ms/step - loss: 34121.2891 - root_mean_squared_error: 42696.5391 - val_loss: 39163.2734 - val_root_mean_squared_error: 48362.6836\n",
      "Epoch 70/100\n",
      "25/25 [==============================] - 0s 2ms/step - loss: 36682.6719 - root_mean_squared_error: 46440.9258 - val_loss: 33526.4141 - val_root_mean_squared_error: 41985.9219\n",
      "Epoch 71/100\n",
      "25/25 [==============================] - 0s 2ms/step - loss: 34905.8516 - root_mean_squared_error: 44048.7930 - val_loss: 33536.8594 - val_root_mean_squared_error: 42183.4805\n",
      "Epoch 72/100\n",
      "25/25 [==============================] - 0s 2ms/step - loss: 34380.1914 - root_mean_squared_error: 43577.4961 - val_loss: 32549.9609 - val_root_mean_squared_error: 41070.6211\n",
      "Epoch 73/100\n",
      "25/25 [==============================] - 0s 2ms/step - loss: 37036.8359 - root_mean_squared_error: 47155.6133 - val_loss: 37442.2891 - val_root_mean_squared_error: 46964.0781\n",
      "Epoch 74/100\n",
      "25/25 [==============================] - 0s 2ms/step - loss: 39016.5742 - root_mean_squared_error: 49364.9766 - val_loss: 32461.4492 - val_root_mean_squared_error: 40846.9570\n",
      "Epoch 75/100\n",
      "25/25 [==============================] - 0s 2ms/step - loss: 33823.1914 - root_mean_squared_error: 42705.8711 - val_loss: 32478.4492 - val_root_mean_squared_error: 40915.5820\n",
      "Epoch 76/100\n",
      "25/25 [==============================] - 0s 2ms/step - loss: 34671.6406 - root_mean_squared_error: 43753.9492 - val_loss: 36463.1641 - val_root_mean_squared_error: 45348.0391\n",
      "Epoch 77/100\n",
      "25/25 [==============================] - 0s 2ms/step - loss: 37483.0195 - root_mean_squared_error: 48022.3242 - val_loss: 32970.5547 - val_root_mean_squared_error: 41616.8477\n",
      "Epoch 78/100\n",
      "25/25 [==============================] - 0s 2ms/step - loss: 35099.4102 - root_mean_squared_error: 44667.3203 - val_loss: 33642.6992 - val_root_mean_squared_error: 42413.0547\n",
      "Epoch 79/100\n",
      "25/25 [==============================] - 0s 2ms/step - loss: 35712.0859 - root_mean_squared_error: 45646.6484 - val_loss: 34581.9648 - val_root_mean_squared_error: 43379.8984\n",
      "Epoch 80/100\n",
      "25/25 [==============================] - 0s 2ms/step - loss: 34448.4688 - root_mean_squared_error: 43284.5664 - val_loss: 35696.0508 - val_root_mean_squared_error: 44793.2461\n",
      "Epoch 81/100\n",
      "25/25 [==============================] - 0s 2ms/step - loss: 33394.5898 - root_mean_squared_error: 42790.2930 - val_loss: 33602.1094 - val_root_mean_squared_error: 42234.4023\n",
      "Epoch 82/100\n",
      "25/25 [==============================] - 0s 2ms/step - loss: 34683.3906 - root_mean_squared_error: 44604.9766 - val_loss: 33057.2305 - val_root_mean_squared_error: 41681.3516\n",
      "Epoch 83/100\n",
      "25/25 [==============================] - 0s 2ms/step - loss: 33721.7812 - root_mean_squared_error: 43017.4102 - val_loss: 32566.0547 - val_root_mean_squared_error: 41149.3828\n",
      "Epoch 84/100\n",
      "25/25 [==============================] - 0s 2ms/step - loss: 34241.2383 - root_mean_squared_error: 43683.6328 - val_loss: 34686.1406 - val_root_mean_squared_error: 43240.5898\n",
      "Epoch 85/100\n",
      "25/25 [==============================] - 0s 2ms/step - loss: 33306.0781 - root_mean_squared_error: 42530.8164 - val_loss: 31641.9707 - val_root_mean_squared_error: 40080.7188\n"
     ]
    },
    {
     "name": "stdout",
     "output_type": "stream",
     "text": [
      "Epoch 86/100\n",
      "25/25 [==============================] - 0s 2ms/step - loss: 34400.4727 - root_mean_squared_error: 43899.0820 - val_loss: 32198.3984 - val_root_mean_squared_error: 40863.2266\n",
      "Epoch 87/100\n",
      "25/25 [==============================] - 0s 2ms/step - loss: 34158.9219 - root_mean_squared_error: 43927.2500 - val_loss: 34775.6016 - val_root_mean_squared_error: 43779.8633\n",
      "Epoch 88/100\n",
      "25/25 [==============================] - 0s 2ms/step - loss: 33898.4805 - root_mean_squared_error: 43191.0391 - val_loss: 33423.7344 - val_root_mean_squared_error: 42227.8984\n",
      "Epoch 89/100\n",
      "25/25 [==============================] - 0s 2ms/step - loss: 33549.1016 - root_mean_squared_error: 42806.4453 - val_loss: 34002.4922 - val_root_mean_squared_error: 42812.8242\n",
      "Epoch 90/100\n",
      "25/25 [==============================] - 0s 3ms/step - loss: 34409.0117 - root_mean_squared_error: 44553.1367 - val_loss: 32567.8145 - val_root_mean_squared_error: 41356.5273\n",
      "Epoch 91/100\n",
      "25/25 [==============================] - 0s 2ms/step - loss: 32969.4922 - root_mean_squared_error: 42447.4688 - val_loss: 38186.9414 - val_root_mean_squared_error: 47556.3516\n",
      "Epoch 92/100\n",
      "25/25 [==============================] - 0s 2ms/step - loss: 34207.8516 - root_mean_squared_error: 44051.2266 - val_loss: 31480.5547 - val_root_mean_squared_error: 39825.2383\n",
      "Epoch 93/100\n",
      "25/25 [==============================] - 0s 2ms/step - loss: 32149.2773 - root_mean_squared_error: 40897.6602 - val_loss: 35716.5000 - val_root_mean_squared_error: 44453.3047\n",
      "Epoch 94/100\n",
      "25/25 [==============================] - 0s 2ms/step - loss: 34180.6289 - root_mean_squared_error: 43757.3438 - val_loss: 32581.9648 - val_root_mean_squared_error: 41138.1562\n",
      "Epoch 95/100\n",
      "25/25 [==============================] - 0s 2ms/step - loss: 32357.7949 - root_mean_squared_error: 41250.1172 - val_loss: 36842.4727 - val_root_mean_squared_error: 46015.6953\n",
      "Epoch 96/100\n",
      "25/25 [==============================] - 0s 2ms/step - loss: 34262.8203 - root_mean_squared_error: 43493.8008 - val_loss: 31534.2852 - val_root_mean_squared_error: 39684.1445\n",
      "Epoch 97/100\n",
      "25/25 [==============================] - 0s 2ms/step - loss: 32383.4824 - root_mean_squared_error: 41682.5273 - val_loss: 32534.6250 - val_root_mean_squared_error: 40722.9844\n",
      "Epoch 98/100\n",
      "25/25 [==============================] - 0s 2ms/step - loss: 32796.6797 - root_mean_squared_error: 42464.1719 - val_loss: 34671.6914 - val_root_mean_squared_error: 43504.6250\n",
      "Epoch 99/100\n",
      "25/25 [==============================] - 0s 2ms/step - loss: 34175.0703 - root_mean_squared_error: 43982.4805 - val_loss: 31042.8496 - val_root_mean_squared_error: 39208.1250\n",
      "Epoch 100/100\n",
      "25/25 [==============================] - 0s 2ms/step - loss: 32160.5820 - root_mean_squared_error: 41340.8984 - val_loss: 31892.9492 - val_root_mean_squared_error: 40522.6562\n"
     ]
    }
   ],
   "source": [
    "history=model.fit(train_dataset,\n",
    "                  validation_data=val_dataset,\n",
    "                  epochs=100,\n",
    "                  verbose=1)"
   ]
  },
  {
   "cell_type": "markdown",
   "id": "05a5f217",
   "metadata": {},
   "source": [
    "plotting loss"
   ]
  },
  {
   "cell_type": "code",
   "execution_count": 18,
   "id": "1658c5f6",
   "metadata": {},
   "outputs": [
    {
     "data": {
      "image/png": "[encoded data removed]",
      "text/plain": [
       "<Figure size 640x480 with 1 Axes>"
      ]
     },
     "metadata": {},
     "output_type": "display_data"
    }
   ],
   "source": [
    "plt.plot(history.history['loss'])\n",
    "plt.plot(history.history['val_loss'])\n",
    "plt.title('model loss')\n",
    "plt.ylabel('loss')\n",
    "plt.xlabel('epoch')\n",
    "plt.legend(['train','val_loss'])\n",
    "plt.show()"
   ]
  },
  {
   "cell_type": "markdown",
   "id": "2fc051de",
   "metadata": {},
   "source": [
    "# Preformance Measure"
   ]
  },
  {
   "cell_type": "markdown",
   "id": "ac04eff2",
   "metadata": {},
   "source": [
    "plotting RootMeanSquredError"
   ]
  },
  {
   "cell_type": "code",
   "execution_count": 19,
   "id": "e68439ca",
   "metadata": {},
   "outputs": [
    {
     "data": {
      "image/png": "[encoded data removed]",
      "text/plain": [
       "<Figure size 640x480 with 1 Axes>"
      ]
     },
     "metadata": {},
     "output_type": "display_data"
    }
   ],
   "source": [
    "plt.plot(history.history['root_mean_squared_error'])\n",
    "plt.plot(history.history['val_root_mean_squared_error'])\n",
    "plt.title('model performance')\n",
    "plt.ylabel('rmse')\n",
    "plt.xlabel('epoch')\n",
    "plt.legend(['train','val'])\n",
    "plt.show()"
   ]
  },
  {
   "cell_type": "markdown",
   "id": "b46d36aa",
   "metadata": {},
   "source": [
    "# Validation"
   ]
  },
  {
   "cell_type": "markdown",
   "id": "2990c910",
   "metadata": {},
   "source": [
    "evaluate model"
   ]
  },
  {
   "cell_type": "code",
   "execution_count": 20,
   "id": "43b63e3d",
   "metadata": {},
   "outputs": [
    {
     "name": "stdout",
     "output_type": "stream",
     "text": [
      "4/4 [==============================] - 0s 7ms/step - loss: 40602.8828 - root_mean_squared_error: 46559.5703\n"
     ]
    },
    {
     "data": {
      "text/plain": [
       "[40602.8828125, 46559.5703125]"
      ]
     },
     "execution_count": 20,
     "metadata": {},
     "output_type": "execute_result"
    }
   ],
   "source": [
    "model.evaluate(x_val,y_val)"
   ]
  },
  {
   "cell_type": "markdown",
   "id": "7d0ddccd",
   "metadata": {},
   "source": [
    "evaluation test data"
   ]
  },
  {
   "cell_type": "code",
   "execution_count": 21,
   "id": "8a6451d2",
   "metadata": {},
   "outputs": [
    {
     "name": "stdout",
     "output_type": "stream",
     "text": [
      "4/4 [==============================] - 0s 4ms/step - loss: 38958.1016 - root_mean_squared_error: 48697.6406\n"
     ]
    },
    {
     "data": {
      "text/plain": [
       "[38958.1015625, 48697.640625]"
      ]
     },
     "execution_count": 21,
     "metadata": {},
     "output_type": "execute_result"
    }
   ],
   "source": [
    "model.evaluate(x_test,y_test)"
   ]
  },
  {
   "cell_type": "markdown",
   "id": "47ebe80c",
   "metadata": {},
   "source": [
    "# Testing"
   ]
  },
  {
   "cell_type": "markdown",
   "id": "c7ae002b",
   "metadata": {},
   "source": [
    "testing for all test data"
   ]
  },
  {
   "cell_type": "code",
   "execution_count": 22,
   "id": "fc63a102",
   "metadata": {},
   "outputs": [],
   "source": [
    "#model.predict(x_test)"
   ]
  },
  {
   "cell_type": "markdown",
   "id": "d8ebd677",
   "metadata": {},
   "source": [
    "test for one input"
   ]
  },
  {
   "cell_type": "code",
   "execution_count": 23,
   "id": "54bbb316",
   "metadata": {},
   "outputs": [],
   "source": [
    "#model.predict(tf.expand_dims(x_test[1],axis=0)) #predicted price"
   ]
  },
  {
   "cell_type": "code",
   "execution_count": 24,
   "id": "546f8f0c",
   "metadata": {},
   "outputs": [],
   "source": [
    "#y_test[1].numpy() #actual price"
   ]
  },
  {
   "cell_type": "markdown",
   "id": "c56dfb8a",
   "metadata": {},
   "source": [
    "testing for test dataset"
   ]
  },
  {
   "cell_type": "code",
   "execution_count": 25,
   "id": "17296e7c",
   "metadata": {},
   "outputs": [
    {
     "name": "stdout",
     "output_type": "stream",
     "text": [
      "4/4 [==============================] - 0s 2ms/step\n"
     ]
    }
   ],
   "source": [
    "y_true=list(y_test[:,0])\n",
    "y_pred=list(model.predict(x_test)[:,0])"
   ]
  },
  {
   "cell_type": "markdown",
   "id": "49b37184",
   "metadata": {},
   "source": [
    "visualize perfromance"
   ]
  },
  {
   "cell_type": "code",
   "execution_count": 26,
   "id": "cc8ff8d0",
   "metadata": {},
   "outputs": [
    {
     "data": {
      "image/png": "[encoded data removed]",
      "text/plain": [
       "<Figure size 4000x2000 with 1 Axes>"
      ]
     },
     "metadata": {},
     "output_type": "display_data"
    }
   ],
   "source": [
    "ind=np.arange(100)\n",
    "plt.figure(figsize=(40,20))\n",
    "\n",
    "width=0.4\n",
    "\n",
    "plt.bar(ind,y_pred,width,label=\"predicted car price\")\n",
    "plt.bar(ind+width,y_true,width,label=\"Actual car price\")\n",
    "\n",
    "plt.xlabel(\"Actual vs predicted price\")\n",
    "plt.ylabel(\"car price\")\n",
    "\n",
    "plt.legend(['Predicted price','Actual price'])\n",
    "plt.show()"
   ]
  },
  {
   "cell_type": "markdown",
   "id": "f99b5a80",
   "metadata": {},
   "source": [
    "save model"
   ]
  },
  {
   "cell_type": "code",
   "execution_count": 27,
   "id": "9036458e",
   "metadata": {},
   "outputs": [
    {
     "name": "stdout",
     "output_type": "stream",
     "text": [
      "INFO:tensorflow:Assets written to: trained_car_price_model_save_1.hs\\assets\n"
     ]
    }
   ],
   "source": [
    "model.save(\"trained_car_price_model_save_1.hs\")"
   ]
  },
  {
   "cell_type": "markdown",
   "id": "17bf89fa",
   "metadata": {},
   "source": [
    "# Explain how it work"
   ]
  },
  {
   "cell_type": "markdown",
   "id": "390aaf4d",
   "metadata": {},
   "source": [
    "minimum diffrent"
   ]
  },
  {
   "cell_type": "code",
   "execution_count": 28,
   "id": "08af8b26",
   "metadata": {},
   "outputs": [
    {
     "name": "stdout",
     "output_type": "stream",
     "text": [
      "predicted value= 308189.38\n",
      "true value= 307008.0\n",
      "1181.375\n",
      "bar number =  43\n"
     ]
    }
   ],
   "source": [
    "min_diffrent=50000\n",
    "u=0\n",
    "for x in range(0,100) :\n",
    "    diffrent_value=abs(float(y_true[x]-y_pred[x]))\n",
    "    if min_diffrent > diffrent_value :\n",
    "        min_diffrent = diffrent_value\n",
    "        u=x\n",
    "print(\"predicted value=\",y_pred[u])\n",
    "print(\"true value=\",y_true[u].numpy())\n",
    "print(min_diffrent)\n",
    "print(\"bar number = \",u)"
   ]
  },
  {
   "cell_type": "code",
   "execution_count": 29,
   "id": "a6388dfc",
   "metadata": {},
   "outputs": [
    {
     "name": "stdout",
     "output_type": "stream",
     "text": [
      " year= 2\n",
      " km= 118272.0\n",
      " rating= 4\n",
      " condition= 10\n",
      " economy= 9\n",
      " hp= 152.0\n",
      " torque= 118.0\n"
     ]
    }
   ],
   "source": [
    "print(f\" year= {int(x_test[u,0])}\\n km= {x_test[u,1]}\\n rating= {int(x_test[u,2])}\\n condition= {int(x_test[u,3])}\\n economy= {int(x_test[u,4])}\\n hp= {x_test[u,5]}\\n torque= {x_test[u,6]}\")"
   ]
  },
  {
   "cell_type": "markdown",
   "id": "012222e5",
   "metadata": {},
   "source": [
    "maximun diffrent"
   ]
  },
  {
   "cell_type": "code",
   "execution_count": 30,
   "id": "bc657ab0",
   "metadata": {},
   "outputs": [
    {
     "name": "stdout",
     "output_type": "stream",
     "text": [
      "predicted value= 85330.664\n",
      "true value= 227669.0\n",
      "142338.3359375\n",
      "bar number =  24\n"
     ]
    }
   ],
   "source": [
    "max_diffrent=0\n",
    "u=0\n",
    "for x in range(0,100) :\n",
    "    diffrent_value=abs(float(y_true[x]-y_pred[x]))\n",
    "    if max_diffrent < diffrent_value :\n",
    "        max_diffrent = diffrent_value\n",
    "        u=x\n",
    "print(\"predicted value=\",y_pred[u])\n",
    "print(\"true value=\",y_true[u].numpy())\n",
    "print(max_diffrent)\n",
    "print(\"bar number = \",u)"
   ]
  },
  {
   "cell_type": "code",
   "execution_count": 31,
   "id": "f594f2f0",
   "metadata": {},
   "outputs": [
    {
     "name": "stdout",
     "output_type": "stream",
     "text": [
      " year= 4\n",
      " km= 139859.0\n",
      " rating= 3\n",
      " condition= 6\n",
      " economy= 14\n",
      " hp= 188.0\n",
      " torque= 54.0\n"
     ]
    }
   ],
   "source": [
    "print(f\" year= {int(x_test[u,0])}\\n km= {x_test[u,1]}\\n rating= {int(x_test[u,2])}\\n condition= {int(x_test[u,3])}\\n economy= {int(x_test[u,4])}\\n hp= {x_test[u,5]}\\n torque= {x_test[u,6]}\")"
   ]
  },
  {
   "cell_type": "markdown",
   "id": "87c46bd9",
   "metadata": {},
   "source": [
    "summary"
   ]
  },
  {
   "cell_type": "code",
   "execution_count": 32,
   "id": "ef50e71b",
   "metadata": {},
   "outputs": [
    {
     "name": "stdout",
     "output_type": "stream",
     "text": [
      "very success in =  7     ratio =   0.7 %\n",
      "normal          =  909    ratio =  90.9 %\n",
      "very bad        =  84     ratio =   8.4 %\n"
     ]
    }
   ],
   "source": [
    "count_1=0\n",
    "count_2=0\n",
    "for x in range(0,100) :\n",
    "    diffrent_value=abs(float(y_true[x]-y_pred[x]))\n",
    "    if 5000 > diffrent_value :\n",
    "        count_1+=1\n",
    "    if 10000 < diffrent_value :\n",
    "        count_2+=1\n",
    "print(\"very success in = \",count_1,\"    ratio =  \",float(count_1/10),\"%\")\n",
    "print(\"normal          = \",1000-(count_1+count_2),\"   ratio = \",float((1000-(count_1+count_2))/10),\"%\")\n",
    "print(\"very bad        = \",count_2,\"    ratio =  \",float(count_2/10),\"%\")"
   ]
  }
 ],
 "metadata": {
  "kernelspec": {
   "display_name": "Python 3 (ipykernel)",
   "language": "python",
   "name": "python3"
  },
  "language_info": {
   "codemirror_mode": {
    "name": "ipython",
    "version": 3
   },
   "file_extension": ".py",
   "mimetype": "text/x-python",
   "name": "python",
   "nbconvert_exporter": "python",
   "pygments_lexer": "ipython3",
   "version": "3.10.9"
  }
 },
 "nbformat": 4,
 "nbformat_minor": 5
}
